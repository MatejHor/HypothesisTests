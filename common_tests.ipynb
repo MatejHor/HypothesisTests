{
 "cells": [
  {
   "cell_type": "markdown",
   "metadata": {},
   "source": [
    "# Welch's t-test\n",
    "Welch’s t-test is a hypothesis test for determining if two populations have different means.   \n",
    "There are a number of varieties of this test, but we will look at the two sample version and we will ask if high performing salespeople generate higher sales than low performing salespeople in the population.\n",
    "  \n",
    "We start by assuming our null hypothesis which is that the difference in mean sales between high performers and low performers in the population is zero or less.  "
   ]
  },
  {
   "cell_type": "code",
   "execution_count": 3,
   "metadata": {},
   "outputs": [
    {
     "name": "stdout",
     "output_type": "stream",
     "text": [
      "Ttest_indResult(statistic=4.629477606844271, pvalue=5.466221730788518e-06)\n"
     ]
    }
   ],
   "source": [
    "import pandas as pd\n",
    "from scipy import stats\n",
    "\n",
    "# get data\n",
    "url = \"http://peopleanalytics-regression-book.org/data/salespeople.csv\"\n",
    "salespeople = pd.read_csv(url)\n",
    "\n",
    "# get sales for top and bottom performers\n",
    "perf1 = salespeople[salespeople.performance == 1].sales\n",
    "perf4 = salespeople[salespeople.performance == 4].sales\n",
    "\n",
    "# welch's independent t-test with unequal variance\n",
    "ttest = stats.ttest_ind(perf4, perf1, equal_var=False, alternative = \"greater\")\n",
    "print(ttest)"
   ]
  },
  {
   "cell_type": "markdown",
   "metadata": {},
   "source": [
    "#  Correlation test\n",
    "\n",
    "Test that two numeric variables have a non-zero correlation.\n",
    "  \n",
    "Let’s ask if there is a non-zero correlation between sales and customer_rate in our salespeople data set. As usual we assume the null hypothesis — that there is a zero correlation between these variables"
   ]
  },
  {
   "cell_type": "code",
   "execution_count": 5,
   "metadata": {},
   "outputs": [
    {
     "name": "stdout",
     "output_type": "stream",
     "text": [
      "PearsonRResult(statistic=0.3378050448586781, pvalue=8.64795221209082e-11)\n"
     ]
    }
   ],
   "source": [
    "import numpy as np\n",
    "import pandas as pd\n",
    "from scipy import stats\n",
    "\n",
    "# get data\n",
    "url = \"http://peopleanalytics-regression-book.org/data/salespeople.csv\"\n",
    "salespeople = pd.read_csv(url)\n",
    "\n",
    "# calculate correlation and p-value \n",
    "sales = salespeople.sales[~np.isnan(salespeople.sales)]\n",
    "cust_rate = salespeople.customer_rate[~np.isnan(salespeople.customer_rate)]\n",
    "\n",
    "# correlation test\n",
    "cor = stats.pearsonr(sales, cust_rate)\n",
    "print(cor)"
   ]
  },
  {
   "cell_type": "markdown",
   "metadata": {},
   "source": [
    "# Chi-square test of difference in proportion\n",
    "How to deal with categorical variables.   \n",
    "A common question is whether there is a difference in proportion across different categories of a such a variable.   \n",
    "A chi-square test is a hypothesis test designed for this purpose.\n",
    "  \n",
    "Let’s ask the question: is there a difference in the proportion of salespeople who are promoted between the different performance categories?\n",
    "  \n",
    "Again, we assume the null hypothesis, that the proportion of salespeople who are promoted is the same across all the performance categories."
   ]
  },
  {
   "cell_type": "code",
   "execution_count": 6,
   "metadata": {},
   "outputs": [
    {
     "name": "stdout",
     "output_type": "stream",
     "text": [
      "(25.895405268094862, 1.0030629464566802e-05, 3, array([[40.62857143, 74.48571429, 84.64285714, 37.24285714],\n",
      "       [19.37142857, 35.51428571, 40.35714286, 17.75714286]]))\n"
     ]
    }
   ],
   "source": [
    "import pandas as pd\n",
    "from scipy import stats\n",
    "\n",
    "# get data\n",
    "url = \"http://peopleanalytics-regression-book.org/data/salespeople.csv\"\n",
    "salespeople = pd.read_csv(url)\n",
    "\n",
    "# create contingency table for promoted versus performance\n",
    "contingency = pd.crosstab(salespeople.promoted, salespeople.performance)\n",
    "\n",
    "# perform chi-square test\n",
    "chi2_test = stats.chi2_contingency(contingency)\n",
    "print(chi2_test)"
   ]
  },
  {
   "cell_type": "markdown",
   "metadata": {},
   "source": [
    "."
   ]
  }
 ],
 "metadata": {
  "kernelspec": {
   "display_name": "base",
   "language": "python",
   "name": "python3"
  },
  "language_info": {
   "codemirror_mode": {
    "name": "ipython",
    "version": 3
   },
   "file_extension": ".py",
   "mimetype": "text/x-python",
   "name": "python",
   "nbconvert_exporter": "python",
   "pygments_lexer": "ipython3",
   "version": "3.9.13"
  },
  "orig_nbformat": 4
 },
 "nbformat": 4,
 "nbformat_minor": 2
}
